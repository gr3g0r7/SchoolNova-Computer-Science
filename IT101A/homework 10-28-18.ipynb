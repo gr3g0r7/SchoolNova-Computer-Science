{
 "cells": [
  {
   "cell_type": "markdown",
   "metadata": {},
   "source": [
    "# Homework 10-28-18\n",
    "Last class we coded fuzzbuzz"
   ]
  },
  {
   "cell_type": "code",
   "execution_count": 2,
   "metadata": {},
   "outputs": [],
   "source": [
    "# as homework, I would like you to write a little code in which you\n",
    "# combine a loop and if statements"
   ]
  },
  {
   "cell_type": "code",
   "execution_count": 1,
   "metadata": {},
   "outputs": [
    {
     "name": "stdout",
     "output_type": "stream",
     "text": [
      "pear\n",
      "dog\n",
      "tree\n",
      "apple\n",
      "grass\n",
      "hamster\n"
     ]
    }
   ],
   "source": [
    "mylist = ['pear','dog','tree','apple','grass','hamster']\n",
    "for stuff in mylist:\n",
    "    print(stuff)"
   ]
  },
  {
   "cell_type": "code",
   "execution_count": null,
   "metadata": {},
   "outputs": [],
   "source": [
    "# please write code below to loop through the list as above\n",
    "# but also print whether the stuff in the list is a fruit, animal or plant\n",
    "# example:\n",
    "# pear : fruit\n",
    "# dog : animal\n",
    "#\n",
    "# put code below"
   ]
  }
 ],
 "metadata": {
  "kernelspec": {
   "display_name": "Python 3",
   "language": "python",
   "name": "python3"
  },
  "language_info": {
   "codemirror_mode": {
    "name": "ipython",
    "version": 3
   },
   "file_extension": ".py",
   "mimetype": "text/x-python",
   "name": "python",
   "nbconvert_exporter": "python",
   "pygments_lexer": "ipython3",
   "version": "3.6.6"
  }
 },
 "nbformat": 4,
 "nbformat_minor": 2
}
